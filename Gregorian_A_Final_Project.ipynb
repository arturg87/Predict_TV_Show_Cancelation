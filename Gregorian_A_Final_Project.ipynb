{
 "cells": [
  {
   "cell_type": "markdown",
   "metadata": {
    "toc": true
   },
   "source": [
    "<h1>Table of Contents<span class=\"tocSkip\"></span></h1>\n",
    "<div class=\"toc\"><ul class=\"toc-item\"><li><span><a href=\"#Business-Understanding\" data-toc-modified-id=\"Business-Understanding-1\"><span class=\"toc-item-num\">1&nbsp;&nbsp;</span>Business Understanding</a></span><ul class=\"toc-item\"><li><span><a href=\"#Sources\" data-toc-modified-id=\"Sources-1.1\"><span class=\"toc-item-num\">1.1&nbsp;&nbsp;</span>Sources</a></span></li><li><span><a href=\"#Data-Collection-Techniques\" data-toc-modified-id=\"Data-Collection-Techniques-1.2\"><span class=\"toc-item-num\">1.2&nbsp;&nbsp;</span>Data Collection Techniques</a></span></li></ul></li><li><span><a href=\"#Data-cleaning-&amp;-Text-Pre-Processing\" data-toc-modified-id=\"Data-cleaning-&amp;-Text-Pre-Processing-2\"><span class=\"toc-item-num\">2&nbsp;&nbsp;</span>Data cleaning &amp; Text Pre-Processing</a></span><ul class=\"toc-item\"><li><span><a href=\"#Helper-Functions\" data-toc-modified-id=\"Helper-Functions-2.1\"><span class=\"toc-item-num\">2.1&nbsp;&nbsp;</span>Helper Functions</a></span></li><li><span><a href=\"#Processing-Data\" data-toc-modified-id=\"Processing-Data-2.2\"><span class=\"toc-item-num\">2.2&nbsp;&nbsp;</span>Processing Data</a></span></li></ul></li><li><span><a href=\"#Data-Understanding\" data-toc-modified-id=\"Data-Understanding-3\"><span class=\"toc-item-num\">3&nbsp;&nbsp;</span>Data Understanding</a></span></li><li><span><a href=\"#Story-Telling\" data-toc-modified-id=\"Story-Telling-4\"><span class=\"toc-item-num\">4&nbsp;&nbsp;</span>Story Telling</a></span></li></ul></div>"
   ]
  },
  {
   "cell_type": "markdown",
   "metadata": {},
   "source": [
    "##### Imports"
   ]
  },
  {
   "cell_type": "code",
   "execution_count": 490,
   "metadata": {
    "ExecuteTime": {
     "end_time": "2019-05-05T22:08:55.539692Z",
     "start_time": "2019-05-05T22:08:55.449329Z"
    }
   },
   "outputs": [],
   "source": [
    "# import python packages\n",
    "import pandas as pd\n",
    "#%matplotlib inline\n",
    "import matplotlib.pyplot as plt\n",
    "import re\n",
    "from os import path\n",
    "from PIL import Image\n",
    "from wordcloud import WordCloud, STOPWORDS\n",
    "import os\n",
    "from collections import defaultdict\n",
    "import itertools\n",
    "from isodate import parse_duration\n",
    "\n",
    "from sklearn import preprocessing\n",
    "import seaborn as sns\n",
    "from scipy import stats\n",
    "\n",
    "import numpy as np\n",
    "from collections import Counter\n",
    "\n",
    "import nltk\n",
    "from nltk.corpus import stopwords\n",
    "from nltk import FreqDist, word_tokenize\n",
    "from nltk.stem.porter import PorterStemmer\n",
    "from nltk.stem import WordNetLemmatizer\n",
    "from nltk.corpus import stopwords\n",
    "from textblob import TextBlob\n",
    "\n",
    "# Vader sentiment\n",
    "from nltk.sentiment.vader import SentimentIntensityAnalyzer\n",
    "from nltk import tokenize\n",
    "\n",
    "from pattern.en import sentiment"
   ]
  },
  {
   "cell_type": "markdown",
   "metadata": {
    "heading_collapsed": true
   },
   "source": [
    "# Business Understanding\n",
    "\n",
    " "
   ]
  },
  {
   "cell_type": "markdown",
   "metadata": {
    "hidden": true
   },
   "source": [
    "The purpose of this project is to try and predict if a particular TV show will be either renewed or canceled.\n",
    "This will be based on data collected and analyzed from IMDb and twitter. In particular, I will try to gauge the\n",
    "shows popularity by:\n",
    "* looking at the IMDb score and the number of users who voted\n",
    "* analyzing sentiment of the reviews\n",
    "* analyzing review scores\n",
    "* analyzing the shows popularity by it twitter following\n",
    "\n",
    "\n",
    "If successful, the real world applications of this could be:\n",
    "* Help networks decide whether or not to renew or cancel a show\n",
    "* Could help entertainment news agencies better predict a shows renewal\\cancellation\n",
    "\n",
    "\n",
    "The question I would like to answer are:\n",
    "1. Does a strong twitter following lead to a shows renewal?\n",
    "2. Can the shows IMDb score help to predict it's cancellation?\n",
    "3. Is there a correlation to the sentiment from the shows reviews and it being renewed\\canceled?\n"
   ]
  },
  {
   "cell_type": "markdown",
   "metadata": {
    "heading_collapsed": true,
    "hidden": true
   },
   "source": [
    "## Sources\n"
   ]
  },
  {
   "cell_type": "markdown",
   "metadata": {
    "hidden": true
   },
   "source": [
    "The source of the data comes from 3 places, Metacritc, IMDb and Twitter.\n",
    "\n",
    "\n",
    "The data collected from metacritic includes:\n",
    " * TV show name\n",
    " * Renewed\\Cancel status\n",
    " * Network show aired on\n",
    "\n",
    "\n",
    "The data collected from IMDb includes:\n",
    " * Title\n",
    " * IMDb Score\n",
    " * Number of users voted\n",
    " * If applicable, the shows ranking within IMDb top 250 TV shows\n",
    " * Keywords\n",
    " * Genres\n",
    " * Content rating\n",
    " * Country\n",
    " * Language\n",
    " * Release Date\n",
    " * Runtime\n",
    " * TV Network\n",
    "\n",
    "\n",
    "The Data Collected from Twitter includes:\n",
    " * Name\n",
    " * twitter handle (screenname)\n",
    " * number of follower"
   ]
  },
  {
   "cell_type": "markdown",
   "metadata": {
    "heading_collapsed": true,
    "hidden": true
   },
   "source": [
    "## Data Collection Techniques\n"
   ]
  },
  {
   "cell_type": "markdown",
   "metadata": {
    "hidden": true
   },
   "source": [
    "The methods for collecting the data was web crawling and the Twitter API\n",
    "The code for data collection was written in python separate from the Juptyer Notebook and can be\n",
    "found in the GIT repository. See below for a detailed explanation:\n",
    "\n",
    "The data collection was split into three parts:\n",
    "1. Getting the appropriate IMDb links\n",
    "2. Getting the appropriate IMDb Data\n",
    "3. Getting the appropriate Twitter data\n",
    "\n",
    "The first step was to scrape the metacritic website to get a list of renewed\\canceled TV shows.\n",
    "Once completed, I could use the shows name to build an IMDb query url in order to find all the IMDb Links\n",
    "associated with the show name. There were some issues were the search string wasn't quite right and IMDb\n",
    "resulted in incorrect results. These were very few and were not added to the final list.\n",
    "he code for the link collection can be found in the Get_IMDb_Links folder.\n",
    "The second step was to collect the IMDb data for each of the links created from the first step.\n",
    "All the data was collected using Beautiful Soup instead of xpath extraction. The code can be found in the\n",
    "Get_IMDb_Data folder.\n",
    "\n",
    "The last step was to collect the Twitter data. This step turned out to be the most challenging as most of\n",
    "of the shows didn't have an Official Site embeded in its IMDb page. I used the Python package Tweepy to\n",
    "search twitter for users with the query string being the show name. In some cases, I added the network to the\n",
    "query string.\n",
    "\n",
    "In the case where I did have a link from IMDb to the shows Official Twitter page, I noticed that some of those links were not working. I found out that was due the fact that the tokens have updated thus invalidating the originally collected link from IMDb. Instead of using the links I had already collected, I decided to collect the link at the time of needing it. From there I used Beautiful Soup to scrape the twitter handle and later pushed it through the twitter API to get the information needed.\n",
    "\n",
    "Since twitter's search users api call returns multiple results, I created a crude algorithm in order to\n",
    "determine the most likely twitter account. For example, the show Zoo shows results from different city\n",
    "zoos. I needed to determine which twitter user was more likely to be the TV show. I did this by implementing\n",
    "a series of checks that look at the Twitter users name, screenname, and description and I check it against\n",
    "the characteristic of the show (network, name, etc). In addition, if the account is verified, I increase the\n",
    "measured weight. This proved to be very accurate with only a few being incorrect, these are still in the\n",
    "dataset.\n",
    "\n",
    "The code for the Twitter data collection can be found in the Get_social_media_data folder."
   ]
  },
  {
   "cell_type": "markdown",
   "metadata": {},
   "source": [
    "# Data cleaning & Text Pre-Processing"
   ]
  },
  {
   "cell_type": "markdown",
   "metadata": {
    "ExecuteTime": {
     "end_time": "2019-05-05T02:29:14.898978Z",
     "start_time": "2019-05-05T02:29:14.894483Z"
    },
    "heading_collapsed": true
   },
   "source": [
    "## Helper Functions "
   ]
  },
  {
   "cell_type": "code",
   "execution_count": 458,
   "metadata": {
    "ExecuteTime": {
     "end_time": "2019-05-05T21:42:28.728340Z",
     "start_time": "2019-05-05T21:42:28.698221Z"
    },
    "hidden": true,
    "run_control": {
     "marked": false
    }
   },
   "outputs": [],
   "source": [
    "# Data is spilt into three json files: 1. IMDb Data, 2. IMDb Reviews, 3. Twitter Data\n",
    "# This function is to read the json files\n",
    "def read_json(filename):\n",
    "    path = os.path.join('Data', filename)\n",
    "\n",
    "    with open(path, 'r') as infile:\n",
    "        returnList = json.load(infile)\n",
    "        return returnList\n",
    "\n",
    "# function for merging list of dictionaries \n",
    "# Modified from https://stackoverflow.com/questions/3421906/how-to-merge-lists-of-dictionaries\n",
    "def merge_lists(l1, l2, key, typeSM):\n",
    "    merged = {}\n",
    "    count = 0\n",
    "    for item in l1+l2:\n",
    "        if item[key] in merged:\n",
    "            if typeSM == 'twitter':\n",
    "                try:\n",
    "                    twitter = {\"twitter_followers\":l2[count]['twitter_data']['followers_count'], 'twitter_screenname':l2[count]['twitter_data']['screen_name']}\n",
    "                    merged[item[key]].update(twitter)\n",
    "                except:\n",
    "                    twitter = {\"twitter_followers\": None, 'twitter_screenname': None}\n",
    "                    merged[item[key]].update(twitter)\n",
    "            elif typeSM == 'review':\n",
    "                if item[key] in merged:\n",
    "                    merged[item[key]].update(item)\n",
    "            count += 1\n",
    "        else:\n",
    "            merged[item[key]] = item\n",
    "    \n",
    "    for (_, val) in merged.items():\n",
    "        items = val\n",
    "        try:\n",
    "            if items['twitter_followers'] or not items['twitter_followers']:\n",
    "                pass\n",
    "        except:\n",
    "            twitter = {\"twitter_followers\": None, 'twitter_screenname': None}\n",
    "            #for each in followers:\n",
    "            merged[items['tv_show_name']].update(twitter)\n",
    "\n",
    "    return [val for (_, val) in merged.items()]"
   ]
  },
  {
   "cell_type": "code",
   "execution_count": 459,
   "metadata": {
    "ExecuteTime": {
     "end_time": "2019-05-05T21:42:29.476705Z",
     "start_time": "2019-05-05T21:42:29.466306Z"
    },
    "hidden": true
   },
   "outputs": [],
   "source": [
    "# Function to return sentiment on passed in list\n",
    "\n",
    "def vader(r):\n",
    "    reviews = []\n",
    "    for i in r:\n",
    "        reviews.append(i)\n",
    "    \n",
    "    positive_review = []\n",
    "    negative_review = []\n",
    "    neutral_review = []\n",
    "    \n",
    "    analyzer = SentimentIntensityAnalyzer()\n",
    "    \n",
    "    for sentence in reviews:\n",
    "        vs = analyzer.polarity_scores(sentence)\n",
    "        #print((\"{:-<65} {}\".format(sentence, str(vs))))\n",
    "        if vs['compound'] > 0.8:\n",
    "            positive_review.append(sentence)\n",
    "        elif vs['compound'] < 0:\n",
    "            negative_review.append(sentence)\n",
    "        else:\n",
    "            neutral_review.append(sentence)\n",
    "            \n",
    "    return len(positive_review), len(negative_review), len(neutral_review)\n"
   ]
  },
  {
   "cell_type": "code",
   "execution_count": 460,
   "metadata": {
    "ExecuteTime": {
     "end_time": "2019-05-05T21:42:30.071427Z",
     "start_time": "2019-05-05T21:42:30.059893Z"
    },
    "hidden": true,
    "scrolled": true
   },
   "outputs": [],
   "source": [
    "# This function takes the review data in a dataframe and calculates the average review rating and the avg sentiment for review titles and review text for each show in the df.\n",
    "def processReviewData(dataframe):\n",
    "    review_data = []\n",
    "\n",
    "    for i in range(len(dataframe)):\n",
    "        # Go through each tv shows diction of imdb_reviews \n",
    "        place = dataframe.iloc[i].imdb_reviews\n",
    "        \n",
    "        # get the show name, to be used later as the key in merging\n",
    "        tv_show_name = dataframe.iloc[i].tv_show_name\n",
    "\n",
    "        scores = []\n",
    "        Reviews = []\n",
    "        ReviewTitle = []\n",
    "\n",
    "        for n in range(len(dataframe.iloc[i].imdb_reviews)):\n",
    "            # go through each element in the show's review dictionary and get all the score, titles and review \n",
    "            #text to be stored in a list\n",
    "            \n",
    "            if place[n]['review_score'] is not None:\n",
    "                scores.append(int(place[n]['review_score']))\n",
    "            \n",
    "            if place[n]['review_title'] is not \"\":\n",
    "                ReviewTitle.append(place[n]['review_title'])\n",
    "            \n",
    "            if place[n]['review_text'] is not None:\n",
    "                Reviews.append(place[n]['review_text'])\n",
    "                \n",
    "        try:\n",
    "            avg_score = round(sum(scores)/len(scores), 1)\n",
    "        except:\n",
    "            avg_score = None\n",
    "\n",
    "        try:\n",
    "            reviews_vaderSent = vader(list(Reviews))\n",
    "        except:\n",
    "            reviews_vaderSent = [None, None, None]\n",
    "            \n",
    "        try:\n",
    "            revTitle_vaderSent = vader(list(Reviews))\n",
    "        except:\n",
    "            revTitle_vaderSent = [None, None, None]\n",
    "\n",
    "        review_data.append({\n",
    "            'tv_show_name': tv_show_name,\n",
    "            'avg_review_score': avg_score,\n",
    "            'pos_review_sent': reviews_vaderSent[0],\n",
    "            'neg_review_sent': reviews_vaderSent[1],\n",
    "            'neut_review_sent': reviews_vaderSent[2],\n",
    "            'pos_revTitle_sent': revTitle_vaderSent[0],\n",
    "            'neg_revTitle_sent': revTitle_vaderSent[1],\n",
    "            'neut_revTitle_sent': revTitle_vaderSent[2],\n",
    "        })\n",
    "        \n",
    "    return review_data"
   ]
  },
  {
   "cell_type": "markdown",
   "metadata": {},
   "source": [
    "## Processing Data"
   ]
  },
  {
   "cell_type": "code",
   "execution_count": 503,
   "metadata": {
    "ExecuteTime": {
     "end_time": "2019-05-05T22:32:11.625688Z",
     "start_time": "2019-05-05T22:31:14.760019Z"
    }
   },
   "outputs": [],
   "source": [
    "# Data is spilt into three json files: 1. IMDb Data, 2. IMDb Reviews, 3. Twitter Data\n",
    "\n",
    "# Get the data\n",
    "rescuedIMDbData = read_json('rescued_IMDB_Data.json')\n",
    "rescuedIMDbReviews = read_json('rescued_imdb_reviews.json')\n",
    "rescuedTwiterData = read_json('rescuedTwitterData.json')\n",
    "\n",
    "renewedIMDbData = read_json('renewed_IMDB_Data.json')\n",
    "renewedIMDbReviews = read_json('renewed_imdb_reviews.json')\n",
    "renewedTwiterData = read_json('renewedTwitterData.json')\n",
    "\n",
    "canceledIMDbData = read_json('canceled_IMDB_Data.json')\n",
    "canceledIMDbReviews = read_json('canceled_imdb_reviews.json')\n",
    "canceledTwiterData = read_json('canceledTwitterData.json')\n",
    "\n",
    "# Remove Official sites link from list as it is not needed.\n",
    "rescuedIMDbData = [{k: v for k, v in d.items() if k != 'official_sites'} for d in rescuedIMDbData]\n",
    "renewedIMDbData = [{k: v for k, v in d.items() if k != 'official_sites'} for d in renewedIMDbData]\n",
    "canceledIMDbData = [{k: v for k, v in d.items() if k != 'official_sites'} for d in canceledIMDbData]\n",
    "\n",
    "# Combine the IMDb Data and the twitter data into one list, keep reviewes seperate\n",
    "rescuedCombine = merge_lists(rescuedIMDbData, rescuedTwiterData, 'tv_show_name', 'twitter')\n",
    "renewedCombine = merge_lists(renewedIMDbData, renewedTwiterData, 'tv_show_name', 'twitter')\n",
    "canceledCombine = merge_lists(canceledIMDbData, canceledTwiterData, 'tv_show_name', 'twitter')\n",
    "\n",
    "# Put all review data into a dataframe and\n",
    "# extract the average review rating for all shows and calculate sentiment for all shows \n",
    "rescuedReviews = processReviewData(pd.DataFrame(rescuedIMDbReviews))\n",
    "renewedReviews = processReviewData(pd.DataFrame(renewedIMDbReviews))\n",
    "canceledReviews = processReviewData(pd.DataFrame(canceledIMDbReviews))\n",
    "\n",
    "# Combine the IMDb Data and the review data into one list\n",
    "rescuedCombine = merge_lists(rescuedIMDbData, rescuedReviews, 'tv_show_name', 'review')\n",
    "renewedCombine = merge_lists(renewedIMDbData, renewedReviews, 'tv_show_name', 'review')\n",
    "canceledCombine = merge_lists(canceledIMDbData, canceledReviews, 'tv_show_name', 'review')"
   ]
  },
  {
   "cell_type": "code",
   "execution_count": 507,
   "metadata": {
    "ExecuteTime": {
     "end_time": "2019-05-05T22:34:02.077805Z",
     "start_time": "2019-05-05T22:34:02.063085Z"
    }
   },
   "outputs": [],
   "source": [
    "columns = ['tv_show_name','tv_network', 'imdb_score', 'imdb_score_num_users', 'avg_review_score', 'pos_review_sent', 'neg_review_sent', 'neut_review_sent', 'pos_revTitle_sent', 'neg_revTitle_sent', 'neut_revTitle_sent',  'twitter_followers', 'twitter_screenname', 'top_rated_rank', 'genres', 'story_keywords', 'runtime', 'tv_rating', 'release_date', 'country', 'langauge']\n",
    "\n",
    "rescued = pd.DataFrame(rescuedCombine, columns=columns)\n",
    "renewed = pd.DataFrame(renewedCombine, columns=columns)\n",
    "canceled = pd.DataFrame(canceledCombine, columns=columns)\n"
   ]
  },
  {
   "cell_type": "code",
   "execution_count": 510,
   "metadata": {
    "ExecuteTime": {
     "end_time": "2019-05-05T22:40:45.445149Z",
     "start_time": "2019-05-05T22:34:39.716775Z"
    }
   },
   "outputs": [],
   "source": [
    "# Convert runtime to timedelta.\n",
    "# Runtime is currently in ISO 8601 format. I am using a python package called isodate to parse the data.\n",
    "for i in range(len(rescued)):\n",
    "    if rescued['runtime'].iloc[i] is not None:\n",
    "        rescued['runtime'].iloc[i] = parse_duration(rescued['runtime'].iloc[i])\n",
    "        \n",
    "for i in range(len(renewed)):\n",
    "    if renewed['runtime'].iloc[i] is not None:\n",
    "        renewed['runtime'].iloc[i] = parse_duration(renewed['runtime'].iloc[i])\n",
    "\n",
    "for i in range(len(canceled)):\n",
    "    if canceled['runtime'].iloc[i] is not None:\n",
    "        canceled['runtime'].iloc[i] = parse_duration(canceled['runtime'].iloc[i])        "
   ]
  },
  {
   "cell_type": "code",
   "execution_count": 513,
   "metadata": {
    "ExecuteTime": {
     "end_time": "2019-05-05T22:44:55.809752Z",
     "start_time": "2019-05-05T22:44:55.795858Z"
    }
   },
   "outputs": [],
   "source": [
    "# Do some Data Type Conversions\n",
    "rescued.release_date = pd.to_datetime(rescued.release_date)\n",
    "renewed.release_date = pd.to_datetime(renewed.release_date)\n",
    "canceled.release_date = pd.to_datetime(canceled.release_date)\n",
    "\n",
    "rescued.runtime = pd.to_timedelta(rescued.runtime)\n",
    "renewed.runtime = pd.to_timedelta(renewed.runtime)\n",
    "canceled.runtime = pd.to_timedelta(canceled.runtime)\n",
    "\n",
    "rescued.top_rated_rank = pd.to_numeric(rescued.top_rated_rank)\n",
    "renewed.top_rated_rank = pd.to_numeric(renewed.top_rated_rank)\n",
    "canceled.top_rated_rank = pd.to_numeric(canceled.top_rated_rank)"
   ]
  },
  {
   "cell_type": "code",
   "execution_count": 515,
   "metadata": {
    "ExecuteTime": {
     "end_time": "2019-05-05T22:45:09.659365Z",
     "start_time": "2019-05-05T22:45:09.634849Z"
    },
    "run_control": {
     "marked": false
    }
   },
   "outputs": [
    {
     "data": {
      "text/html": [
       "<div>\n",
       "<style scoped>\n",
       "    .dataframe tbody tr th:only-of-type {\n",
       "        vertical-align: middle;\n",
       "    }\n",
       "\n",
       "    .dataframe tbody tr th {\n",
       "        vertical-align: top;\n",
       "    }\n",
       "\n",
       "    .dataframe thead th {\n",
       "        text-align: right;\n",
       "    }\n",
       "</style>\n",
       "<table border=\"1\" class=\"dataframe\">\n",
       "  <thead>\n",
       "    <tr style=\"text-align: right;\">\n",
       "      <th></th>\n",
       "      <th>tv_show_name</th>\n",
       "      <th>tv_network</th>\n",
       "      <th>imdb_score</th>\n",
       "      <th>imdb_score_num_users</th>\n",
       "      <th>avg_review_score</th>\n",
       "      <th>pos_review_sent</th>\n",
       "      <th>neg_review_sent</th>\n",
       "      <th>neut_review_sent</th>\n",
       "      <th>pos_revTitle_sent</th>\n",
       "      <th>neg_revTitle_sent</th>\n",
       "      <th>...</th>\n",
       "      <th>twitter_followers</th>\n",
       "      <th>twitter_screenname</th>\n",
       "      <th>top_rated_rank</th>\n",
       "      <th>genres</th>\n",
       "      <th>story_keywords</th>\n",
       "      <th>runtime</th>\n",
       "      <th>tv_rating</th>\n",
       "      <th>release_date</th>\n",
       "      <th>country</th>\n",
       "      <th>langauge</th>\n",
       "    </tr>\n",
       "  </thead>\n",
       "  <tbody>\n",
       "    <tr>\n",
       "      <th>0</th>\n",
       "      <td>Brooklyn Nine-Nine</td>\n",
       "      <td>None</td>\n",
       "      <td>8.4</td>\n",
       "      <td>144529</td>\n",
       "      <td>8.9</td>\n",
       "      <td>56</td>\n",
       "      <td>9</td>\n",
       "      <td>10</td>\n",
       "      <td>56</td>\n",
       "      <td>9</td>\n",
       "      <td>...</td>\n",
       "      <td>607086</td>\n",
       "      <td>nbcbrooklyn99</td>\n",
       "      <td>238</td>\n",
       "      <td>[Comedy, Crime]</td>\n",
       "      <td>[police, new york city, police detective, poli...</td>\n",
       "      <td>00:22:00</td>\n",
       "      <td>TV-14</td>\n",
       "      <td>2013-09-17</td>\n",
       "      <td>[USA]</td>\n",
       "      <td>[English]</td>\n",
       "    </tr>\n",
       "  </tbody>\n",
       "</table>\n",
       "<p>1 rows × 21 columns</p>\n",
       "</div>"
      ],
      "text/plain": [
       "         tv_show_name tv_network  imdb_score  imdb_score_num_users  \\\n",
       "0  Brooklyn Nine-Nine       None         8.4                144529   \n",
       "\n",
       "   avg_review_score  pos_review_sent  neg_review_sent  neut_review_sent  \\\n",
       "0               8.9               56                9                10   \n",
       "\n",
       "   pos_revTitle_sent  neg_revTitle_sent  ...  twitter_followers  \\\n",
       "0                 56                  9  ...             607086   \n",
       "\n",
       "   twitter_screenname top_rated_rank           genres  \\\n",
       "0       nbcbrooklyn99            238  [Comedy, Crime]   \n",
       "\n",
       "                                      story_keywords  runtime tv_rating  \\\n",
       "0  [police, new york city, police detective, poli... 00:22:00     TV-14   \n",
       "\n",
       "  release_date country   langauge  \n",
       "0   2013-09-17   [USA]  [English]  \n",
       "\n",
       "[1 rows x 21 columns]"
      ]
     },
     "execution_count": 515,
     "metadata": {},
     "output_type": "execute_result"
    }
   ],
   "source": [
    "rescued.head(2)"
   ]
  },
  {
   "cell_type": "code",
   "execution_count": 516,
   "metadata": {
    "ExecuteTime": {
     "end_time": "2019-05-05T22:45:10.370050Z",
     "start_time": "2019-05-05T22:45:10.342761Z"
    }
   },
   "outputs": [
    {
     "data": {
      "text/html": [
       "<div>\n",
       "<style scoped>\n",
       "    .dataframe tbody tr th:only-of-type {\n",
       "        vertical-align: middle;\n",
       "    }\n",
       "\n",
       "    .dataframe tbody tr th {\n",
       "        vertical-align: top;\n",
       "    }\n",
       "\n",
       "    .dataframe thead th {\n",
       "        text-align: right;\n",
       "    }\n",
       "</style>\n",
       "<table border=\"1\" class=\"dataframe\">\n",
       "  <thead>\n",
       "    <tr style=\"text-align: right;\">\n",
       "      <th></th>\n",
       "      <th>tv_show_name</th>\n",
       "      <th>tv_network</th>\n",
       "      <th>imdb_score</th>\n",
       "      <th>imdb_score_num_users</th>\n",
       "      <th>avg_review_score</th>\n",
       "      <th>pos_review_sent</th>\n",
       "      <th>neg_review_sent</th>\n",
       "      <th>neut_review_sent</th>\n",
       "      <th>pos_revTitle_sent</th>\n",
       "      <th>neg_revTitle_sent</th>\n",
       "      <th>...</th>\n",
       "      <th>twitter_followers</th>\n",
       "      <th>twitter_screenname</th>\n",
       "      <th>top_rated_rank</th>\n",
       "      <th>genres</th>\n",
       "      <th>story_keywords</th>\n",
       "      <th>runtime</th>\n",
       "      <th>tv_rating</th>\n",
       "      <th>release_date</th>\n",
       "      <th>country</th>\n",
       "      <th>langauge</th>\n",
       "    </tr>\n",
       "  </thead>\n",
       "  <tbody>\n",
       "    <tr>\n",
       "      <th>0</th>\n",
       "      <td>Mr. Mercedes</td>\n",
       "      <td>Audience Network</td>\n",
       "      <td>7.9</td>\n",
       "      <td>11413</td>\n",
       "      <td>6.6</td>\n",
       "      <td>36</td>\n",
       "      <td>21</td>\n",
       "      <td>18</td>\n",
       "      <td>36</td>\n",
       "      <td>21</td>\n",
       "      <td>...</td>\n",
       "      <td>NaN</td>\n",
       "      <td>None</td>\n",
       "      <td>NaN</td>\n",
       "      <td>[Mystery, Sci-Fi, Thriller]</td>\n",
       "      <td>[killer, stalker, psychopath, mercedes benz, i...</td>\n",
       "      <td>01:00:00</td>\n",
       "      <td>TV-MA</td>\n",
       "      <td>2017-08-09</td>\n",
       "      <td>[USA]</td>\n",
       "      <td>[English]</td>\n",
       "    </tr>\n",
       "    <tr>\n",
       "      <th>1</th>\n",
       "      <td>Schitt's Creek</td>\n",
       "      <td>Pop</td>\n",
       "      <td>8.2</td>\n",
       "      <td>16726</td>\n",
       "      <td>4.6</td>\n",
       "      <td>38</td>\n",
       "      <td>25</td>\n",
       "      <td>12</td>\n",
       "      <td>38</td>\n",
       "      <td>25</td>\n",
       "      <td>...</td>\n",
       "      <td>NaN</td>\n",
       "      <td>None</td>\n",
       "      <td>NaN</td>\n",
       "      <td>[Comedy]</td>\n",
       "      <td>[riches to rags, siblings living together, cla...</td>\n",
       "      <td>00:22:00</td>\n",
       "      <td>TV-14</td>\n",
       "      <td>2015-02-11</td>\n",
       "      <td>[Canada, USA]</td>\n",
       "      <td>[English]</td>\n",
       "    </tr>\n",
       "  </tbody>\n",
       "</table>\n",
       "<p>2 rows × 21 columns</p>\n",
       "</div>"
      ],
      "text/plain": [
       "     tv_show_name        tv_network  imdb_score  imdb_score_num_users  \\\n",
       "0    Mr. Mercedes  Audience Network         7.9                 11413   \n",
       "1  Schitt's Creek               Pop         8.2                 16726   \n",
       "\n",
       "   avg_review_score  pos_review_sent  neg_review_sent  neut_review_sent  \\\n",
       "0               6.6               36               21                18   \n",
       "1               4.6               38               25                12   \n",
       "\n",
       "   pos_revTitle_sent  neg_revTitle_sent  ...  twitter_followers  \\\n",
       "0                 36                 21  ...                NaN   \n",
       "1                 38                 25  ...                NaN   \n",
       "\n",
       "   twitter_screenname top_rated_rank                       genres  \\\n",
       "0                None            NaN  [Mystery, Sci-Fi, Thriller]   \n",
       "1                None            NaN                     [Comedy]   \n",
       "\n",
       "                                      story_keywords  runtime tv_rating  \\\n",
       "0  [killer, stalker, psychopath, mercedes benz, i... 01:00:00     TV-MA   \n",
       "1  [riches to rags, siblings living together, cla... 00:22:00     TV-14   \n",
       "\n",
       "  release_date        country   langauge  \n",
       "0   2017-08-09          [USA]  [English]  \n",
       "1   2015-02-11  [Canada, USA]  [English]  \n",
       "\n",
       "[2 rows x 21 columns]"
      ]
     },
     "execution_count": 516,
     "metadata": {},
     "output_type": "execute_result"
    }
   ],
   "source": [
    "renewed.head(2)"
   ]
  },
  {
   "cell_type": "code",
   "execution_count": 517,
   "metadata": {
    "ExecuteTime": {
     "end_time": "2019-05-05T22:45:10.994244Z",
     "start_time": "2019-05-05T22:45:10.965948Z"
    }
   },
   "outputs": [
    {
     "data": {
      "text/html": [
       "<div>\n",
       "<style scoped>\n",
       "    .dataframe tbody tr th:only-of-type {\n",
       "        vertical-align: middle;\n",
       "    }\n",
       "\n",
       "    .dataframe tbody tr th {\n",
       "        vertical-align: top;\n",
       "    }\n",
       "\n",
       "    .dataframe thead th {\n",
       "        text-align: right;\n",
       "    }\n",
       "</style>\n",
       "<table border=\"1\" class=\"dataframe\">\n",
       "  <thead>\n",
       "    <tr style=\"text-align: right;\">\n",
       "      <th></th>\n",
       "      <th>tv_show_name</th>\n",
       "      <th>tv_network</th>\n",
       "      <th>imdb_score</th>\n",
       "      <th>imdb_score_num_users</th>\n",
       "      <th>avg_review_score</th>\n",
       "      <th>pos_review_sent</th>\n",
       "      <th>neg_review_sent</th>\n",
       "      <th>neut_review_sent</th>\n",
       "      <th>pos_revTitle_sent</th>\n",
       "      <th>neg_revTitle_sent</th>\n",
       "      <th>...</th>\n",
       "      <th>twitter_followers</th>\n",
       "      <th>twitter_screenname</th>\n",
       "      <th>top_rated_rank</th>\n",
       "      <th>genres</th>\n",
       "      <th>story_keywords</th>\n",
       "      <th>runtime</th>\n",
       "      <th>tv_rating</th>\n",
       "      <th>release_date</th>\n",
       "      <th>country</th>\n",
       "      <th>langauge</th>\n",
       "    </tr>\n",
       "  </thead>\n",
       "  <tbody>\n",
       "    <tr>\n",
       "      <th>0</th>\n",
       "      <td>*Loosely Exactly Nicole</td>\n",
       "      <td>None</td>\n",
       "      <td>5.7</td>\n",
       "      <td>351</td>\n",
       "      <td>7.8</td>\n",
       "      <td>9</td>\n",
       "      <td>0</td>\n",
       "      <td>3</td>\n",
       "      <td>9</td>\n",
       "      <td>0</td>\n",
       "      <td>...</td>\n",
       "      <td>NaN</td>\n",
       "      <td>None</td>\n",
       "      <td>NaN</td>\n",
       "      <td>[Comedy]</td>\n",
       "      <td>None</td>\n",
       "      <td>00:22:00</td>\n",
       "      <td>TV-14</td>\n",
       "      <td>2016-08-01</td>\n",
       "      <td>[USA]</td>\n",
       "      <td>[English]</td>\n",
       "    </tr>\n",
       "    <tr>\n",
       "      <th>1</th>\n",
       "      <td>Alex, Inc.</td>\n",
       "      <td>ABC</td>\n",
       "      <td>5.8</td>\n",
       "      <td>1674</td>\n",
       "      <td>6.1</td>\n",
       "      <td>23</td>\n",
       "      <td>15</td>\n",
       "      <td>19</td>\n",
       "      <td>23</td>\n",
       "      <td>15</td>\n",
       "      <td>...</td>\n",
       "      <td>4832.0</td>\n",
       "      <td>AlexIncABC</td>\n",
       "      <td>NaN</td>\n",
       "      <td>[Comedy]</td>\n",
       "      <td>None</td>\n",
       "      <td>00:30:00</td>\n",
       "      <td>TV-PG</td>\n",
       "      <td>2018-03-28</td>\n",
       "      <td>[USA]</td>\n",
       "      <td>[English]</td>\n",
       "    </tr>\n",
       "  </tbody>\n",
       "</table>\n",
       "<p>2 rows × 21 columns</p>\n",
       "</div>"
      ],
      "text/plain": [
       "              tv_show_name tv_network  imdb_score  imdb_score_num_users  \\\n",
       "0  *Loosely Exactly Nicole       None         5.7                   351   \n",
       "1               Alex, Inc.        ABC         5.8                  1674   \n",
       "\n",
       "   avg_review_score  pos_review_sent  neg_review_sent  neut_review_sent  \\\n",
       "0               7.8                9                0                 3   \n",
       "1               6.1               23               15                19   \n",
       "\n",
       "   pos_revTitle_sent  neg_revTitle_sent  ...  twitter_followers  \\\n",
       "0                  9                  0  ...                NaN   \n",
       "1                 23                 15  ...             4832.0   \n",
       "\n",
       "   twitter_screenname top_rated_rank    genres story_keywords  runtime  \\\n",
       "0                None            NaN  [Comedy]           None 00:22:00   \n",
       "1          AlexIncABC            NaN  [Comedy]           None 00:30:00   \n",
       "\n",
       "  tv_rating release_date country   langauge  \n",
       "0     TV-14   2016-08-01   [USA]  [English]  \n",
       "1     TV-PG   2018-03-28   [USA]  [English]  \n",
       "\n",
       "[2 rows x 21 columns]"
      ]
     },
     "execution_count": 517,
     "metadata": {},
     "output_type": "execute_result"
    }
   ],
   "source": [
    "canceled.head(2)"
   ]
  },
  {
   "cell_type": "markdown",
   "metadata": {},
   "source": [
    "# Data Understanding"
   ]
  },
  {
   "cell_type": "markdown",
   "metadata": {
    "heading_collapsed": true
   },
   "source": [
    "##### Which TV networks have the most cancellations?"
   ]
  },
  {
   "cell_type": "code",
   "execution_count": 560,
   "metadata": {
    "ExecuteTime": {
     "end_time": "2019-05-06T03:23:34.125618Z",
     "start_time": "2019-05-06T03:23:33.725325Z"
    },
    "hidden": true
   },
   "outputs": [
    {
     "data": {
      "text/plain": [
       "<matplotlib.axes._subplots.AxesSubplot at 0x15237c908>"
      ]
     },
     "execution_count": 560,
     "metadata": {},
     "output_type": "execute_result"
    },
    {
     "data": {
      "image/png": "[encoded data removed]",
      "text/plain": [
       "<Figure size 1080x360 with 1 Axes>"
      ]
     },
     "metadata": {
      "needs_background": "light"
     },
     "output_type": "display_data"
    }
   ],
   "source": [
    "plt.figure(figsize=(15,5))\n",
    "plt.title('Number of shows that were cancelled by Networks')\n",
    "canceled['tv_network'].value_counts().plot(kind='bar')"
   ]
  },
  {
   "cell_type": "markdown",
   "metadata": {
    "ExecuteTime": {
     "end_time": "2019-05-05T18:01:49.534918Z",
     "start_time": "2019-05-05T18:01:49.531464Z"
    },
    "heading_collapsed": true
   },
   "source": [
    "##### Which TV networks have the most renewals?"
   ]
  },
  {
   "cell_type": "code",
   "execution_count": 559,
   "metadata": {
    "ExecuteTime": {
     "end_time": "2019-05-06T03:23:15.229795Z",
     "start_time": "2019-05-06T03:23:14.556214Z"
    },
    "hidden": true
   },
   "outputs": [
    {
     "data": {
      "text/plain": [
       "<matplotlib.axes._subplots.AxesSubplot at 0x151f2a3c8>"
      ]
     },
     "execution_count": 559,
     "metadata": {},
     "output_type": "execute_result"
    },
    {
     "data": {
      "image/png": "[encoded data removed]",
      "text/plain": [
       "<Figure size 1080x360 with 1 Axes>"
      ]
     },
     "metadata": {
      "needs_background": "light"
     },
     "output_type": "display_data"
    }
   ],
   "source": [
    "plt.figure(figsize=(15,5))\n",
    "plt.title('Number of shows that were renewed by Networks')\n",
    "renewed['tv_network'].value_counts().plot(kind='bar')"
   ]
  },
  {
   "cell_type": "markdown",
   "metadata": {
    "ExecuteTime": {
     "end_time": "2019-05-05T19:55:25.580301Z",
     "start_time": "2019-05-05T19:55:25.575833Z"
    },
    "heading_collapsed": true
   },
   "source": [
    "##### What is the total number of twitter followers for all of a networks of renewed shows "
   ]
  },
  {
   "cell_type": "code",
   "execution_count": 556,
   "metadata": {
    "ExecuteTime": {
     "end_time": "2019-05-06T03:20:40.542386Z",
     "start_time": "2019-05-06T03:20:39.856898Z"
    },
    "hidden": true
   },
   "outputs": [
    {
     "data": {
      "image/png": "[encoded data removed]",
      "text/plain": [
       "<Figure size 1080x360 with 1 Axes>"
      ]
     },
     "metadata": {
      "needs_background": "light"
     },
     "output_type": "display_data"
    }
   ],
   "source": [
    "ax = renewed.groupby('tv_network')['twitter_followers'].sum().sort_values(ascending=False).plot(kind='bar', figsize=(15, 5))\n",
    "ax.set_title(\"Total Twitter followers by network for all renewed shows\")\n",
    "\n",
    "ax.get_yaxis().set_major_formatter(plt.FuncFormatter(lambda x, loc: \"{:,}\".format(int(x))))\n"
   ]
  },
  {
   "cell_type": "code",
   "execution_count": 558,
   "metadata": {
    "ExecuteTime": {
     "end_time": "2019-05-06T03:21:52.956547Z",
     "start_time": "2019-05-06T03:21:52.336030Z"
    },
    "hidden": true
   },
   "outputs": [
    {
     "data": {
      "image/png": "[encoded data removed]",
      "text/plain": [
       "<Figure size 1080x360 with 1 Axes>"
      ]
     },
     "metadata": {
      "needs_background": "light"
     },
     "output_type": "display_data"
    }
   ],
   "source": [
    "test = renewed.groupby('tv_network')['twitter_followers'].sum().sort_values(ascending=False)\n",
    "\n",
    "ax = test.drop(labels=['Comedy Central']).plot(kind='bar', figsize=(15, 5))\n",
    "ax.set_title(\"Total Twitter followers by network for all renewed shows with outlier removed\")\n",
    "\n",
    "ax.get_yaxis().set_major_formatter(plt.FuncFormatter(lambda x, loc: \"{:,}\".format(int(x))))"
   ]
  },
  {
   "cell_type": "code",
   "execution_count": 518,
   "metadata": {
    "ExecuteTime": {
     "end_time": "2019-05-05T22:45:22.003601Z",
     "start_time": "2019-05-05T22:45:21.976148Z"
    },
    "hidden": true
   },
   "outputs": [
    {
     "data": {
      "text/html": [
       "<div>\n",
       "<style scoped>\n",
       "    .dataframe tbody tr th:only-of-type {\n",
       "        vertical-align: middle;\n",
       "    }\n",
       "\n",
       "    .dataframe tbody tr th {\n",
       "        vertical-align: top;\n",
       "    }\n",
       "\n",
       "    .dataframe thead th {\n",
       "        text-align: right;\n",
       "    }\n",
       "</style>\n",
       "<table border=\"1\" class=\"dataframe\">\n",
       "  <thead>\n",
       "    <tr style=\"text-align: right;\">\n",
       "      <th></th>\n",
       "      <th>tv_show_name</th>\n",
       "      <th>tv_network</th>\n",
       "      <th>imdb_score</th>\n",
       "      <th>imdb_score_num_users</th>\n",
       "      <th>avg_review_score</th>\n",
       "      <th>pos_review_sent</th>\n",
       "      <th>neg_review_sent</th>\n",
       "      <th>neut_review_sent</th>\n",
       "      <th>pos_revTitle_sent</th>\n",
       "      <th>neg_revTitle_sent</th>\n",
       "      <th>...</th>\n",
       "      <th>twitter_followers</th>\n",
       "      <th>twitter_screenname</th>\n",
       "      <th>top_rated_rank</th>\n",
       "      <th>genres</th>\n",
       "      <th>story_keywords</th>\n",
       "      <th>runtime</th>\n",
       "      <th>tv_rating</th>\n",
       "      <th>release_date</th>\n",
       "      <th>country</th>\n",
       "      <th>langauge</th>\n",
       "    </tr>\n",
       "  </thead>\n",
       "  <tbody>\n",
       "    <tr>\n",
       "      <th>22</th>\n",
       "      <td>Tosh.0</td>\n",
       "      <td>Comedy Central</td>\n",
       "      <td>7.3</td>\n",
       "      <td>13890</td>\n",
       "      <td>3.9</td>\n",
       "      <td>36</td>\n",
       "      <td>15</td>\n",
       "      <td>10</td>\n",
       "      <td>36</td>\n",
       "      <td>15</td>\n",
       "      <td>...</td>\n",
       "      <td>26064235.0</td>\n",
       "      <td>danieltosh</td>\n",
       "      <td>NaN</td>\n",
       "      <td>[Comedy]</td>\n",
       "      <td>[pixelated nudity, vomiting, 2000s, 2010s, ref...</td>\n",
       "      <td>00:30:00</td>\n",
       "      <td>TV-14</td>\n",
       "      <td>2009-06-04</td>\n",
       "      <td>[USA]</td>\n",
       "      <td>[English]</td>\n",
       "    </tr>\n",
       "  </tbody>\n",
       "</table>\n",
       "<p>1 rows × 21 columns</p>\n",
       "</div>"
      ],
      "text/plain": [
       "   tv_show_name      tv_network  imdb_score  imdb_score_num_users  \\\n",
       "22       Tosh.0  Comedy Central         7.3                 13890   \n",
       "\n",
       "    avg_review_score  pos_review_sent  neg_review_sent  neut_review_sent  \\\n",
       "22               3.9               36               15                10   \n",
       "\n",
       "    pos_revTitle_sent  neg_revTitle_sent  ...  twitter_followers  \\\n",
       "22                 36                 15  ...         26064235.0   \n",
       "\n",
       "    twitter_screenname top_rated_rank    genres  \\\n",
       "22          danieltosh            NaN  [Comedy]   \n",
       "\n",
       "                                       story_keywords  runtime tv_rating  \\\n",
       "22  [pixelated nudity, vomiting, 2000s, 2010s, ref... 00:30:00     TV-14   \n",
       "\n",
       "   release_date country   langauge  \n",
       "22   2009-06-04   [USA]  [English]  \n",
       "\n",
       "[1 rows x 21 columns]"
      ]
     },
     "execution_count": 518,
     "metadata": {},
     "output_type": "execute_result"
    }
   ],
   "source": [
    "renewed[(renewed['tv_network']=='Comedy Central') & (renewed['twitter_followers']>=500000)]"
   ]
  },
  {
   "cell_type": "code",
   "execution_count": 471,
   "metadata": {
    "ExecuteTime": {
     "end_time": "2019-05-05T21:49:14.043350Z",
     "start_time": "2019-05-05T21:49:14.012566Z"
    },
    "hidden": true
   },
   "outputs": [
    {
     "data": {
      "text/html": [
       "<div>\n",
       "<style scoped>\n",
       "    .dataframe tbody tr th:only-of-type {\n",
       "        vertical-align: middle;\n",
       "    }\n",
       "\n",
       "    .dataframe tbody tr th {\n",
       "        vertical-align: top;\n",
       "    }\n",
       "\n",
       "    .dataframe thead th {\n",
       "        text-align: right;\n",
       "    }\n",
       "</style>\n",
       "<table border=\"1\" class=\"dataframe\">\n",
       "  <thead>\n",
       "    <tr style=\"text-align: right;\">\n",
       "      <th></th>\n",
       "      <th>tv_show_name</th>\n",
       "      <th>tv_network</th>\n",
       "      <th>imdb_score</th>\n",
       "      <th>imdb_score_num_users</th>\n",
       "      <th>avg_review_score</th>\n",
       "      <th>pos_review_sent</th>\n",
       "      <th>neg_review_sent</th>\n",
       "      <th>neut_review_sent</th>\n",
       "      <th>pos_revTitle_sent</th>\n",
       "      <th>neg_revTitle_sent</th>\n",
       "      <th>...</th>\n",
       "      <th>twitter_followers</th>\n",
       "      <th>twitter_screenname</th>\n",
       "      <th>top_rated_rank</th>\n",
       "      <th>genres</th>\n",
       "      <th>story_keywords</th>\n",
       "      <th>runtime</th>\n",
       "      <th>tv_rating</th>\n",
       "      <th>release_date</th>\n",
       "      <th>country</th>\n",
       "      <th>langauge</th>\n",
       "    </tr>\n",
       "  </thead>\n",
       "  <tbody>\n",
       "    <tr>\n",
       "      <th>24</th>\n",
       "      <td>Dancing with the Stars</td>\n",
       "      <td>ABC</td>\n",
       "      <td>4.8</td>\n",
       "      <td>8926</td>\n",
       "      <td>6.8</td>\n",
       "      <td>38</td>\n",
       "      <td>11</td>\n",
       "      <td>10</td>\n",
       "      <td>38</td>\n",
       "      <td>11</td>\n",
       "      <td>...</td>\n",
       "      <td>1064964.0</td>\n",
       "      <td>DancingABC</td>\n",
       "      <td>NaN</td>\n",
       "      <td>[Family, Game-Show, Music, Reality-TV]</td>\n",
       "      <td>[2000s, 2010s, 21st century, weekly eliminatio...</td>\n",
       "      <td>NaT</td>\n",
       "      <td>TV-PG</td>\n",
       "      <td>2005-06-01</td>\n",
       "      <td>[USA]</td>\n",
       "      <td>[English]</td>\n",
       "    </tr>\n",
       "    <tr>\n",
       "      <th>27</th>\n",
       "      <td>How to Get Away with Murder</td>\n",
       "      <td>ABC</td>\n",
       "      <td>8.2</td>\n",
       "      <td>103205</td>\n",
       "      <td>5.4</td>\n",
       "      <td>35</td>\n",
       "      <td>31</td>\n",
       "      <td>9</td>\n",
       "      <td>35</td>\n",
       "      <td>31</td>\n",
       "      <td>...</td>\n",
       "      <td>919151.0</td>\n",
       "      <td>HowToGetAwayABC</td>\n",
       "      <td>NaN</td>\n",
       "      <td>[Crime, Drama, Mystery, Thriller]</td>\n",
       "      <td>[law student, gay character, legal drama, cour...</td>\n",
       "      <td>NaT</td>\n",
       "      <td>TV-14</td>\n",
       "      <td>2014-09-25</td>\n",
       "      <td>[USA]</td>\n",
       "      <td>[English, Spanish]</td>\n",
       "    </tr>\n",
       "    <tr>\n",
       "      <th>57</th>\n",
       "      <td>Grey's Anatomy</td>\n",
       "      <td>ABC</td>\n",
       "      <td>7.6</td>\n",
       "      <td>210734</td>\n",
       "      <td>3.4</td>\n",
       "      <td>31</td>\n",
       "      <td>28</td>\n",
       "      <td>16</td>\n",
       "      <td>31</td>\n",
       "      <td>28</td>\n",
       "      <td>...</td>\n",
       "      <td>4690386.0</td>\n",
       "      <td>GreysABC</td>\n",
       "      <td>NaN</td>\n",
       "      <td>[Drama, Romance]</td>\n",
       "      <td>[surgeon, hospital, lesbian, work romance, sur...</td>\n",
       "      <td>NaT</td>\n",
       "      <td>TV-14</td>\n",
       "      <td>2005-03-27</td>\n",
       "      <td>[USA]</td>\n",
       "      <td>[English]</td>\n",
       "    </tr>\n",
       "    <tr>\n",
       "      <th>166</th>\n",
       "      <td>American Idol</td>\n",
       "      <td>ABC</td>\n",
       "      <td>4.2</td>\n",
       "      <td>20453</td>\n",
       "      <td>4.0</td>\n",
       "      <td>45</td>\n",
       "      <td>18</td>\n",
       "      <td>12</td>\n",
       "      <td>45</td>\n",
       "      <td>18</td>\n",
       "      <td>...</td>\n",
       "      <td>2038939.0</td>\n",
       "      <td>AmericanIdol</td>\n",
       "      <td>NaN</td>\n",
       "      <td>[Game-Show, Music, Reality-TV]</td>\n",
       "      <td>[2010s, 2000s, singing contest, pop music, mus...</td>\n",
       "      <td>NaT</td>\n",
       "      <td>TV-PG</td>\n",
       "      <td>2002-06-11</td>\n",
       "      <td>[USA]</td>\n",
       "      <td>[English]</td>\n",
       "    </tr>\n",
       "  </tbody>\n",
       "</table>\n",
       "<p>4 rows × 21 columns</p>\n",
       "</div>"
      ],
      "text/plain": [
       "                    tv_show_name tv_network  imdb_score  imdb_score_num_users  \\\n",
       "24        Dancing with the Stars        ABC         4.8                  8926   \n",
       "27   How to Get Away with Murder        ABC         8.2                103205   \n",
       "57                Grey's Anatomy        ABC         7.6                210734   \n",
       "166                American Idol        ABC         4.2                 20453   \n",
       "\n",
       "     avg_review_score  pos_review_sent  neg_review_sent  neut_review_sent  \\\n",
       "24                6.8               38               11                10   \n",
       "27                5.4               35               31                 9   \n",
       "57                3.4               31               28                16   \n",
       "166               4.0               45               18                12   \n",
       "\n",
       "     pos_revTitle_sent  neg_revTitle_sent  ...  twitter_followers  \\\n",
       "24                  38                 11  ...          1064964.0   \n",
       "27                  35                 31  ...           919151.0   \n",
       "57                  31                 28  ...          4690386.0   \n",
       "166                 45                 18  ...          2038939.0   \n",
       "\n",
       "     twitter_screenname top_rated_rank  \\\n",
       "24           DancingABC            NaN   \n",
       "27      HowToGetAwayABC            NaN   \n",
       "57             GreysABC            NaN   \n",
       "166        AmericanIdol            NaN   \n",
       "\n",
       "                                     genres  \\\n",
       "24   [Family, Game-Show, Music, Reality-TV]   \n",
       "27        [Crime, Drama, Mystery, Thriller]   \n",
       "57                         [Drama, Romance]   \n",
       "166          [Game-Show, Music, Reality-TV]   \n",
       "\n",
       "                                        story_keywords runtime tv_rating  \\\n",
       "24   [2000s, 2010s, 21st century, weekly eliminatio...     NaT     TV-PG   \n",
       "27   [law student, gay character, legal drama, cour...     NaT     TV-14   \n",
       "57   [surgeon, hospital, lesbian, work romance, sur...     NaT     TV-14   \n",
       "166  [2010s, 2000s, singing contest, pop music, mus...     NaT     TV-PG   \n",
       "\n",
       "    release_date country            langauge  \n",
       "24    2005-06-01   [USA]           [English]  \n",
       "27    2014-09-25   [USA]  [English, Spanish]  \n",
       "57    2005-03-27   [USA]           [English]  \n",
       "166   2002-06-11   [USA]           [English]  \n",
       "\n",
       "[4 rows x 21 columns]"
      ]
     },
     "execution_count": 471,
     "metadata": {},
     "output_type": "execute_result"
    }
   ],
   "source": [
    "renewed[(renewed['tv_network']=='ABC') & (renewed['twitter_followers']>=500000)]"
   ]
  },
  {
   "cell_type": "markdown",
   "metadata": {
    "hidden": true
   },
   "source": [
    "This is a bit misleading as TOSH.0 is a bit of an outlier. Daniel Tosh, the host of the show, has a twitter following of 26 Million.\n",
    "\n",
    "ABC has the next highest following with headliners like Grey's Anatomy, American Idol and How to Get Away with Murder. "
   ]
  },
  {
   "cell_type": "markdown",
   "metadata": {
    "heading_collapsed": true
   },
   "source": [
    "##### What is the total number of twitter followers for all of a networks of canceled shows "
   ]
  },
  {
   "cell_type": "code",
   "execution_count": 555,
   "metadata": {
    "ExecuteTime": {
     "end_time": "2019-05-06T03:18:30.852253Z",
     "start_time": "2019-05-06T03:18:30.476678Z"
    },
    "hidden": true
   },
   "outputs": [
    {
     "data": {
      "image/png": "[encoded data removed]",
      "text/plain": [
       "<Figure size 1080x360 with 1 Axes>"
      ]
     },
     "metadata": {
      "needs_background": "light"
     },
     "output_type": "display_data"
    }
   ],
   "source": [
    "ax = canceled.groupby('tv_network')['twitter_followers'].sum().sort_values(ascending=False).plot(kind='bar', figsize=(15, 5))\n",
    "ax.set_title(\"Total Twitter followers by network for all canceled shows\")\n",
    "\n",
    "ax.get_yaxis().set_major_formatter(plt.FuncFormatter(lambda x, loc: \"{:,}\".format(int(x))))\n"
   ]
  },
  {
   "cell_type": "code",
   "execution_count": 480,
   "metadata": {
    "ExecuteTime": {
     "end_time": "2019-05-05T21:52:30.975325Z",
     "start_time": "2019-05-05T21:52:30.943648Z"
    },
    "hidden": true
   },
   "outputs": [
    {
     "data": {
      "text/html": [
       "<div>\n",
       "<style scoped>\n",
       "    .dataframe tbody tr th:only-of-type {\n",
       "        vertical-align: middle;\n",
       "    }\n",
       "\n",
       "    .dataframe tbody tr th {\n",
       "        vertical-align: top;\n",
       "    }\n",
       "\n",
       "    .dataframe thead th {\n",
       "        text-align: right;\n",
       "    }\n",
       "</style>\n",
       "<table border=\"1\" class=\"dataframe\">\n",
       "  <thead>\n",
       "    <tr style=\"text-align: right;\">\n",
       "      <th></th>\n",
       "      <th>tv_show_name</th>\n",
       "      <th>tv_network</th>\n",
       "      <th>imdb_score</th>\n",
       "      <th>imdb_score_num_users</th>\n",
       "      <th>avg_review_score</th>\n",
       "      <th>pos_review_sent</th>\n",
       "      <th>neg_review_sent</th>\n",
       "      <th>neut_review_sent</th>\n",
       "      <th>pos_revTitle_sent</th>\n",
       "      <th>neg_revTitle_sent</th>\n",
       "      <th>...</th>\n",
       "      <th>twitter_followers</th>\n",
       "      <th>twitter_screenname</th>\n",
       "      <th>top_rated_rank</th>\n",
       "      <th>genres</th>\n",
       "      <th>story_keywords</th>\n",
       "      <th>runtime</th>\n",
       "      <th>tv_rating</th>\n",
       "      <th>release_date</th>\n",
       "      <th>country</th>\n",
       "      <th>langauge</th>\n",
       "    </tr>\n",
       "  </thead>\n",
       "  <tbody>\n",
       "    <tr>\n",
       "      <th>17</th>\n",
       "      <td>Sense8</td>\n",
       "      <td>Netflix</td>\n",
       "      <td>8.4</td>\n",
       "      <td>123035</td>\n",
       "      <td>5.1</td>\n",
       "      <td>35</td>\n",
       "      <td>27</td>\n",
       "      <td>13</td>\n",
       "      <td>35</td>\n",
       "      <td>27</td>\n",
       "      <td>...</td>\n",
       "      <td>338765.0</td>\n",
       "      <td>sense8</td>\n",
       "      <td>NaN</td>\n",
       "      <td>[Drama, Mystery, Sci-Fi, Thriller]</td>\n",
       "      <td>[psychic connection, shared experiences, telep...</td>\n",
       "      <td>01:00:00</td>\n",
       "      <td>TV-MA</td>\n",
       "      <td>2015-06-05</td>\n",
       "      <td>[USA]</td>\n",
       "      <td>[English]</td>\n",
       "    </tr>\n",
       "    <tr>\n",
       "      <th>35</th>\n",
       "      <td>Chelsea</td>\n",
       "      <td>Netflix</td>\n",
       "      <td>6.2</td>\n",
       "      <td>1778</td>\n",
       "      <td>5.2</td>\n",
       "      <td>18</td>\n",
       "      <td>15</td>\n",
       "      <td>6</td>\n",
       "      <td>18</td>\n",
       "      <td>15</td>\n",
       "      <td>...</td>\n",
       "      <td>8260297.0</td>\n",
       "      <td>chelseahandler</td>\n",
       "      <td>NaN</td>\n",
       "      <td>[Comedy, Talk-Show]</td>\n",
       "      <td>[woman, non fiction]</td>\n",
       "      <td>NaT</td>\n",
       "      <td>TV-MA</td>\n",
       "      <td>2016-05-11</td>\n",
       "      <td>[USA]</td>\n",
       "      <td>[English]</td>\n",
       "    </tr>\n",
       "  </tbody>\n",
       "</table>\n",
       "<p>2 rows × 21 columns</p>\n",
       "</div>"
      ],
      "text/plain": [
       "   tv_show_name tv_network  imdb_score  imdb_score_num_users  \\\n",
       "17       Sense8    Netflix         8.4                123035   \n",
       "35      Chelsea    Netflix         6.2                  1778   \n",
       "\n",
       "    avg_review_score  pos_review_sent  neg_review_sent  neut_review_sent  \\\n",
       "17               5.1               35               27                13   \n",
       "35               5.2               18               15                 6   \n",
       "\n",
       "    pos_revTitle_sent  neg_revTitle_sent  ...  twitter_followers  \\\n",
       "17                 35                 27  ...           338765.0   \n",
       "35                 18                 15  ...          8260297.0   \n",
       "\n",
       "    twitter_screenname top_rated_rank                              genres  \\\n",
       "17              sense8            NaN  [Drama, Mystery, Sci-Fi, Thriller]   \n",
       "35      chelseahandler            NaN                 [Comedy, Talk-Show]   \n",
       "\n",
       "                                       story_keywords  runtime tv_rating  \\\n",
       "17  [psychic connection, shared experiences, telep... 01:00:00     TV-MA   \n",
       "35                               [woman, non fiction]      NaT     TV-MA   \n",
       "\n",
       "   release_date country   langauge  \n",
       "17   2015-06-05   [USA]  [English]  \n",
       "35   2016-05-11   [USA]  [English]  \n",
       "\n",
       "[2 rows x 21 columns]"
      ]
     },
     "execution_count": 480,
     "metadata": {},
     "output_type": "execute_result"
    }
   ],
   "source": [
    "canceled[(canceled['tv_network']=='Netflix') & (canceled['twitter_followers']>=100000)]"
   ]
  },
  {
   "cell_type": "markdown",
   "metadata": {
    "hidden": true
   },
   "source": [
    "Once again, there is a bit of an outlier in the twitter following of Netflix shows. Chelsea is a show hosted by Chelsea Handler and her twitter following is 8.26 Million. The next highest twitter following is Sense8. \n"
   ]
  },
  {
   "cell_type": "markdown",
   "metadata": {
    "heading_collapsed": true
   },
   "source": [
    "##### Comparison of average twitter followers between canceled and renewed TV shows with outliers removed. "
   ]
  },
  {
   "cell_type": "code",
   "execution_count": 568,
   "metadata": {
    "ExecuteTime": {
     "end_time": "2019-05-06T03:34:47.451633Z",
     "start_time": "2019-05-06T03:34:47.447071Z"
    },
    "hidden": true
   },
   "outputs": [],
   "source": [
    "renewedWithOutOutlier = test.drop(labels=['Comedy Central']).mean()\n",
    "canceledWithOutlier = canceled.twitter_followers.mean()"
   ]
  },
  {
   "cell_type": "code",
   "execution_count": 573,
   "metadata": {
    "ExecuteTime": {
     "end_time": "2019-05-06T04:03:42.545365Z",
     "start_time": "2019-05-06T04:03:42.539577Z"
    },
    "hidden": true
   },
   "outputs": [
    {
     "name": "stdout",
     "output_type": "stream",
     "text": [
      "The average number of twitter followers for renewed TV shows, with outliers removed is 924488.02\n"
     ]
    }
   ],
   "source": [
    "print(\"The average number of twitter followers for renewed TV shows, with outliers removed is %s\" %round(renewedWithOutOutlier, 2))"
   ]
  },
  {
   "cell_type": "code",
   "execution_count": 574,
   "metadata": {
    "ExecuteTime": {
     "end_time": "2019-05-06T04:03:46.864674Z",
     "start_time": "2019-05-06T04:03:46.860605Z"
    },
    "hidden": true
   },
   "outputs": [
    {
     "name": "stdout",
     "output_type": "stream",
     "text": [
      "The average number of twitter followers for canceled TV shows, with outliers removed is 223346.88\n"
     ]
    }
   ],
   "source": [
    "print(\"The average number of twitter followers for canceled TV shows, with outliers removed is %s\" %round(canceledWithOutlier, 2))"
   ]
  },
  {
   "cell_type": "markdown",
   "metadata": {
    "hidden": true
   },
   "source": [
    "It is clear to see that shows that have a higher twitter following has a higher chance of renewal. "
   ]
  },
  {
   "cell_type": "markdown",
   "metadata": {},
   "source": [
    "# Story Telling "
   ]
  },
  {
   "cell_type": "markdown",
   "metadata": {},
   "source": [
    "ABC, Netflix, NBC, CBS, and Fox have the most canceled shows\n",
    "\n",
    "Netflix has the most renewals, followed by ABC, NBC, Fox, and HBO\n",
    "\n",
    "* Once again, there is a bit of an outlier in the twitter following of Netflix shows. Chelsea is a show hosted by Chelsea Handler and her twitter following is 8.26 Million. The next highest twitter following is Sense8. \n",
    "\n",
    "* This is a bit misleading as TOSH.0 is a bit of an outlier. Daniel Tosh, the host of the show, has a twitter following of 26 Million.\n",
    "\n",
    "ABC has the next highest following with headliners like Grey's Anatomy, American Idol and How to Get Away with Murder. \n",
    "\n",
    "It is clear to see that shows that have a higher twitter following has a higher chance of renewal.\n"
   ]
  }
 ],
 "metadata": {
  "file_extension": ".py",
  "kernelspec": {
   "display_name": "Python 3",
   "language": "python",
   "name": "python3"
  },
  "language_info": {
   "codemirror_mode": {
    "name": "ipython",
    "version": 3
   },
   "file_extension": ".py",
   "mimetype": "text/x-python",
   "name": "python",
   "nbconvert_exporter": "python",
   "pygments_lexer": "ipython3",
   "version": "3.6.8"
  },
  "mimetype": "text/x-python",
  "name": "python",
  "npconvert_exporter": "python",
  "pygments_lexer": "ipython3",
  "toc": {
   "base_numbering": 1,
   "nav_menu": {},
   "number_sections": true,
   "sideBar": false,
   "skip_h1_title": false,
   "title_cell": "Table of Contents",
   "title_sidebar": "Contents",
   "toc_cell": true,
   "toc_position": {},
   "toc_section_display": false,
   "toc_window_display": false
  },
  "varInspector": {
   "cols": {
    "lenName": 16,
    "lenType": 16,
    "lenVar": 40
   },
   "kernels_config": {
    "python": {
     "delete_cmd_postfix": "",
     "delete_cmd_prefix": "del ",
     "library": "var_list.py",
     "varRefreshCmd": "print(var_dic_list())"
    },
    "r": {
     "delete_cmd_postfix": ") ",
     "delete_cmd_prefix": "rm(",
     "library": "var_list.r",
     "varRefreshCmd": "cat(var_dic_list()) "
    }
   },
   "position": {
    "height": "402.986px",
    "left": "1639.8px",
    "right": "20px",
    "top": "120px",
    "width": "650.521px"
   },
   "types_to_exclude": [
    "module",
    "function",
    "builtin_function_or_method",
    "instance",
    "_Feature"
   ],
   "window_display": true
  },
  "version": 3
 },
 "nbformat": 4,
 "nbformat_minor": 2
}
